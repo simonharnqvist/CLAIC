{
 "cells": [
  {
   "cell_type": "code",
   "execution_count": 2,
   "metadata": {},
   "outputs": [],
   "source": [
    "import numpy as np\n",
    "import numdifftools as nd"
   ]
  },
  {
   "cell_type": "code",
   "execution_count": 3,
   "metadata": {},
   "outputs": [],
   "source": [
    "def hessian(f, parameters):\n",
    "    \"\"\"Get Hessian matrix for a function f at a given set of parameter values.\"\"\"\n",
    "    hess_f = nd.core.Hessian(f)\n",
    "    return hess_f(np.array(parameters))"
   ]
  },
  {
   "cell_type": "code",
   "execution_count": 9,
   "metadata": {},
   "outputs": [],
   "source": [
    "def jacobian(f, parameters):\n",
    "    \"\"\"Get Jacobian matrix for a function f at a given set of parameter values.\"\"\"\n",
    "    jac_f = nd.core.Jacobian(f)\n",
    "    return jac_f(np.array(parameters))"
   ]
  },
  {
   "cell_type": "code",
   "execution_count": 23,
   "metadata": {},
   "outputs": [],
   "source": [
    "# example function with three inputs and one output\n",
    "\n",
    "def f(params):\n",
    "    x, y, z = params\n",
    "    return x**2 + 2*y + z**2"
   ]
  },
  {
   "cell_type": "code",
   "execution_count": 24,
   "metadata": {},
   "outputs": [],
   "source": [
    "params = (5,6,7)"
   ]
  },
  {
   "cell_type": "code",
   "execution_count": 25,
   "metadata": {},
   "outputs": [
    {
     "data": {
      "text/plain": [
       "-1.7162362639308884e-29"
      ]
     },
     "execution_count": 25,
     "metadata": {},
     "output_type": "execute_result"
    }
   ],
   "source": [
    "hessmat = hessian(f, params)\n",
    "jacmat = jacobian(f, params)\n",
    "\n",
    "np.linalg.det(hessmat)\n"
   ]
  },
  {
   "cell_type": "code",
   "execution_count": 27,
   "metadata": {},
   "outputs": [
    {
     "data": {
      "text/plain": [
       "array([[ 4.12070274e-17,  3.41370871e+14,  0.00000000e+00],\n",
       "       [ 3.41370871e+14, -2.33068144e+29, -0.00000000e+00],\n",
       "       [ 0.00000000e+00,  0.00000000e+00,  5.00000000e-01]])"
      ]
     },
     "execution_count": 27,
     "metadata": {},
     "output_type": "execute_result"
    }
   ],
   "source": [
    "invhess = np.linalg.inv(hessmat)\n",
    "invhess"
   ]
  },
  {
   "cell_type": "code",
   "execution_count": 28,
   "metadata": {},
   "outputs": [
    {
     "data": {
      "text/plain": [
       "array([[ 6.82741743e+14, -4.66136287e+29,  7.00000000e+00]])"
      ]
     },
     "execution_count": 28,
     "metadata": {},
     "output_type": "execute_result"
    }
   ],
   "source": [
    "jacmat @ invhess"
   ]
  },
  {
   "cell_type": "code",
   "execution_count": 29,
   "metadata": {},
   "outputs": [
    {
     "data": {
      "text/plain": [
       "682741742670244.5"
      ]
     },
     "execution_count": 29,
     "metadata": {},
     "output_type": "execute_result"
    }
   ],
   "source": [
    "np.trace(jacmat @ invhess)"
   ]
  }
 ],
 "metadata": {
  "kernelspec": {
   "display_name": "dismal",
   "language": "python",
   "name": "python3"
  },
  "language_info": {
   "codemirror_mode": {
    "name": "ipython",
    "version": 3
   },
   "file_extension": ".py",
   "mimetype": "text/x-python",
   "name": "python",
   "nbconvert_exporter": "python",
   "pygments_lexer": "ipython3",
   "version": "3.11.3"
  },
  "orig_nbformat": 4
 },
 "nbformat": 4,
 "nbformat_minor": 2
}
